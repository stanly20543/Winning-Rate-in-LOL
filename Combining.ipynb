{
 "cells": [
  {
   "cell_type": "code",
   "execution_count": 49,
   "metadata": {},
   "outputs": [],
   "source": [
    "import numpy as np\n",
    "import pandas as pd\n",
    "import matplotlib.pyplot as plt\n",
    "import seaborn as sns\n",
    "from sklearn.model_selection import train_test_split\n",
    "from sklearn.preprocessing import OneHotEncoder\n",
    "from sklearn.linear_model import LogisticRegression\n",
    "from sklearn.metrics import classification_report\n",
    "from sklearn.metrics import confusion_matrix, ConfusionMatrixDisplay"
   ]
  },
  {
   "cell_type": "code",
   "execution_count": 50,
   "metadata": {},
   "outputs": [],
   "source": [
    "df1 = pd.read_csv(\"Modify_Bronze_timeline.csv\")\n",
    "df2 = pd.read_csv(\"Modify_Sliver_timeline.csv\")\n",
    "df3 = pd.read_csv(\"Modify_GOld_timeline.csv\")\n",
    "df4 = pd.read_csv(\"Modify_Master_timeline.csv\")\n",
    "df5 = pd.read_csv(\"Modify_Grandmaster_timeline.csv\")\n",
    "df6 = pd.read_csv(\"Modify_Challenger_timeline.csv\")\n",
    "\n",
    "df = pd.concat([df1, df2, df3, df4, df5, df6])\n",
    "\n",
    "# df.to_csv(\"Timeline_data.csv\")"
   ]
  },
  {
   "cell_type": "code",
   "execution_count": 51,
   "metadata": {},
   "outputs": [],
   "source": [
    "df1 = pd.read_csv(\"Summary_BRONZE.csv\")\n",
    "df2 = pd.read_csv(\"Summary_SILVER.csv\")\n",
    "df3 = pd.read_csv(\"Summary_GOLD.csv\")\n",
    "df4 = pd.read_csv(\"Summary_MASTER.csv\")\n",
    "df5 = pd.read_csv(\"Summary_GRANDMASTER.csv\")\n",
    "df6 = pd.read_csv(\"Summary_CHALLENGER.csv\")\n",
    "\n",
    "df = pd.concat([df1, df2, df3, df4, df5, df6])\n",
    "\n",
    "# df.to_csv(\"Summary_data.csv\")"
   ]
  }
 ],
 "metadata": {
  "kernelspec": {
   "display_name": "Python 3",
   "language": "python",
   "name": "python3"
  },
  "language_info": {
   "codemirror_mode": {
    "name": "ipython",
    "version": 3
   },
   "file_extension": ".py",
   "mimetype": "text/x-python",
   "name": "python",
   "nbconvert_exporter": "python",
   "pygments_lexer": "ipython3",
   "version": "3.12.0"
  }
 },
 "nbformat": 4,
 "nbformat_minor": 2
}
